{
 "cells": [
  {
   "cell_type": "markdown",
   "id": "ee4220c9-969c-46ca-b44a-083f5397e59a",
   "metadata": {},
   "source": [
    "# Metadata Processing"
   ]
  },
  {
   "cell_type": "markdown",
   "id": "82602ba5-ca64-4690-977a-a02973ed71d3",
   "metadata": {},
   "source": [
    "## <font color='#000000'>Table of contents<font><a class='anchor' id='top'></a>\n",
    "\n",
    "- [1. View and streamline available meta data files](#1.-view-and-streamline-available-meta-data-files)\n",
    "  - [A. Assay metadata](#a.-assay-metadata)\n",
    "  - [B. Biospec metadata](#b.-biospec-metadata)\n",
    "  - [C. Individual metadata](#c.-individual-metadata)\n",
    "  - [D. Merging the metadata files](#d.-merging-the-metadata-files)\n",
    "    - [D1. Make sure relevant columns do not have NaN values](#d1.-make-sure-relevant-columns-do-not-have-nan-values)\n",
    "    - [D2. Rename 'Control' to 'Pathology Control' in 'Consensus clinical diagnosis'](#d2.-rename-'control'-to-'pathology-control'-in-'consensus-clinical-diagnosis')\n",
    "  - [E. RIN Score](#e.-rin-score)\n",
    "  - [F. Load Continuous Pseudo-progression score (CPS) from Gabitto et al.](#f.-load-continuous-pseudo-progression-score-(cps)-from-gabitto-et-al.)\n",
    "- [2. View metadata attributes](#2.-view-metadata-attributes)\n",
    "  - [A. Unfiltered metadata](#a.-unfiltered-metadata)\n",
    "  - [B. Filter metadata by diagnosis of interest](#b.-filter-metadata-by-diagnosis-of-interest)\n",
    "  - [C. Save meta data file](#c.-save-meta-data-file)\n",
    "- [3. Switch for brain regions (Start here once metadata file is made)](#3.-switch-for-brain-regions-(start-here-once-metadata-file-is-made))\n",
    "  - [A. Choose desired brain region](#a.-choose-desired-brain-region)\n",
    "    - [A1. Please choose one of the below:](#a1.-please-choose-one-of-the-below:)\n",
    "  - [B. Create '10X_ID' Column for folder recognition in snRNAseq_processing](#b.-create-'10x_id'-column-for-folder-recognition-in-snrnaseq_processing)\n",
    "    - [B1. Merge and save brain region specific metadata](#b1.-merge-and-save-brain-region-specific-metadata)\n",
    "- [4. Test](#4.-test)"
   ]
  },
  {
   "cell_type": "code",
   "execution_count": null,
   "id": "5cd4d585-84fa-42f5-96f1-33a69119790e",
   "metadata": {},
   "outputs": [],
   "source": [
    "import snRNAseq_processing_FUNCTIONS as myfunc\n",
    "import pandas as pd\n",
    "import numpy as np\n",
    "import seaborn as sns\n",
    "import matplotlib.pyplot as plt\n",
    "import pandas as pd\n",
    "from scipy import stats\n",
    "from IPython.display import display, Markdown\n",
    "\n"
   ]
  },
  {
   "cell_type": "code",
   "execution_count": null,
   "id": "776eb8bf-2af1-40bc-9f68-fb1e36f1e86c",
   "metadata": {},
   "outputs": [],
   "source": [
    "# Set pandas to display all columns and rows (I want to see all the info!)\n",
    "pd.set_option('display.max_columns', None)\n",
    "pd.set_option('display.max_rows', None)\n"
   ]
  },
  {
   "cell_type": "markdown",
   "id": "b92cd0d4-e29a-49fd-b7e7-6b70715e1803",
   "metadata": {},
   "source": [
    "## 1. View and streamline available meta data files"
   ]
  },
  {
   "cell_type": "markdown",
   "id": "6a090a44-1ac9-47b8-a5eb-1eb7e3f35100",
   "metadata": {},
   "source": [
    "### A. Assay metadata"
   ]
  },
  {
   "cell_type": "code",
   "execution_count": null,
   "id": "82261f33-47e0-41db-80b5-38a5441e8634",
   "metadata": {
    "scrolled": true
   },
   "outputs": [],
   "source": [
    "assay_df = pd.read_csv('/tscc/nfs/home/aopatel/SEA_AD_SNRNASEQ_MTG/SEA-AD_assay_snRNAseq_metadata.csv') # Change for ATAC 1/2\n",
    "assay_df"
   ]
  },
  {
   "cell_type": "code",
   "execution_count": null,
   "id": "0a466ab8-9320-48a5-844d-b6aeb3f951bc",
   "metadata": {
    "scrolled": true
   },
   "outputs": [],
   "source": [
    "relevant_columns = ['assay', 'specimenID', 'platform', 'RIN', 'rnaBatch', \n",
    "                    'libraryBatch','sequencingBatch']  \n",
    "assay_df = assay_df[relevant_columns]\n",
    "assay_df"
   ]
  },
  {
   "cell_type": "markdown",
   "id": "751cb194-dbb3-4bc6-888d-26af3ad00848",
   "metadata": {},
   "source": [
    "### B. Biospec metadata "
   ]
  },
  {
   "cell_type": "code",
   "execution_count": null,
   "id": "a0368537-95ee-43d4-9d73-2e48f0eeb93c",
   "metadata": {
    "scrolled": true
   },
   "outputs": [],
   "source": [
    "biospec_df = pd.read_csv('/tscc/nfs/home/aopatel/SEA_AD_SNRNASEQ_MTG/SEA-AD_biospecimen_metadata.csv')\n",
    "# Display the contents\n",
    "biospec_df"
   ]
  },
  {
   "cell_type": "code",
   "execution_count": null,
   "id": "21b3fa7e-37e7-4046-9d8b-815f140933ef",
   "metadata": {
    "scrolled": true
   },
   "outputs": [],
   "source": [
    "relevant_columns = ['individualID', 'specimenID', 'tissue', 'samplingAge', 'assay', \n",
    "                    'nucleicAcidSource'] \n",
    "biospec_df = biospec_df[relevant_columns]\n",
    "\n",
    "# Here they have labeled snRNAseq samples as scrnaSeq, I know confusing!)\n",
    "biospec_df = biospec_df[biospec_df['assay'] == 'scrnaSeq'] # Change For ATAC 2/2\n",
    "print(biospec_df)"
   ]
  },
  {
   "cell_type": "markdown",
   "id": "813b1d8e-3acd-413d-84d4-45548354d469",
   "metadata": {},
   "source": [
    "### C. Individual metadata"
   ]
  },
  {
   "cell_type": "code",
   "execution_count": null,
   "id": "d55b655a-8b7e-44ad-89af-ad8914dc79cc",
   "metadata": {
    "scrolled": true
   },
   "outputs": [],
   "source": [
    "# Read the .xlsx file\n",
    "indiv_df = pd.read_csv('/tscc/nfs/home/aopatel/SEA_AD_SNRNASEQ_MTG/SEA-AD_individual_metadata.csv')\n",
    "indiv_df"
   ]
  },
  {
   "cell_type": "code",
   "execution_count": null,
   "id": "5b979905-75f8-4aba-8ffe-1d620e8ae0c8",
   "metadata": {},
   "outputs": [],
   "source": [
    "relevant_columns = ['individualID', 'sex', 'ADNC', 'Braak',\n",
    "                   'CERAD','Thal phase','Cognitive status',\n",
    "                    'Consensus clinical diagnosis',\n",
    "                   'dataset']\n",
    "indiv_df = indiv_df[relevant_columns]"
   ]
  },
  {
   "cell_type": "code",
   "execution_count": null,
   "id": "7bc57c2a-0008-4add-b5ab-a8ac0ea42f96",
   "metadata": {},
   "outputs": [],
   "source": [
    "unique_individuals = indiv_df['individualID'].nunique()\n",
    "print(unique_individuals) #95 unique individuals in SEA-AD cohort (snRNA-seq)"
   ]
  },
  {
   "cell_type": "markdown",
   "id": "0cc6cb11-a0a1-4757-891f-b1076917bdaf",
   "metadata": {},
   "source": [
    "### D. Merging the metadata files\n"
   ]
  },
  {
   "cell_type": "code",
   "execution_count": null,
   "id": "8080c411-4d4c-4542-b90e-b43bdbf58aff",
   "metadata": {},
   "outputs": [],
   "source": [
    "merged_df = pd.merge(biospec_df, indiv_df, on='individualID', how='left')"
   ]
  },
  {
   "cell_type": "code",
   "execution_count": null,
   "id": "b068a076-e41c-4814-ac79-150e981264e1",
   "metadata": {
    "scrolled": true
   },
   "outputs": [],
   "source": [
    "print(merged_df)\n"
   ]
  },
  {
   "cell_type": "code",
   "execution_count": null,
   "id": "66b5cf66-1c89-4cd4-a02e-34bb03a5524a",
   "metadata": {},
   "outputs": [],
   "source": [
    "print(merged_df.shape[0])  # Outputs the number of rows"
   ]
  },
  {
   "cell_type": "code",
   "execution_count": null,
   "id": "2f9e58ff-84b6-4ac7-985b-e9516d2ddb4d",
   "metadata": {
    "scrolled": true
   },
   "outputs": [],
   "source": [
    "merged_df"
   ]
  },
  {
   "cell_type": "code",
   "execution_count": null,
   "id": "78cff708-4acf-4bed-a640-9f33b9561f04",
   "metadata": {
    "scrolled": true
   },
   "outputs": [],
   "source": [
    "# Filter coloumns\n",
    "merged_df_subset = merged_df.drop(columns=['assay'])\n",
    "\n",
    "# Perform the merge\n",
    "meta_data = pd.merge(assay_df, merged_df_subset, on='specimenID', how='left')\n",
    "\n",
    "# Now meta_data has only one 'assay' column, from assay_df to avoid assay_x during merge\n",
    "meta_data # Must have 790 rows"
   ]
  },
  {
   "cell_type": "code",
   "execution_count": null,
   "id": "02781e81-b7c4-481e-8a44-f9cabbbf7891",
   "metadata": {},
   "outputs": [],
   "source": [
    "print(meta_data.columns.tolist())"
   ]
  },
  {
   "cell_type": "markdown",
   "id": "3130e7a7-1db8-4d28-9f5e-0790f0e4fc80",
   "metadata": {},
   "source": [
    "\n",
    "\n",
    "<div class=\"alert alert-block alert-info\">\n",
    "<b> Make sure relevant columns do not have NaN values\n",
    "</div>"
   ]
  },
  {
   "cell_type": "code",
   "execution_count": null,
   "id": "ead5e385-5ba8-4398-b055-777ff276b520",
   "metadata": {},
   "outputs": [],
   "source": [
    "# Check for columns with NaN values\n",
    "nan_columns = meta_data.columns[meta_data.isna().any()].tolist()\n",
    "\n",
    "# Print the columns with NaN values\n",
    "print(\"Columns with NaN values:\", nan_columns)"
   ]
  },
  {
   "cell_type": "code",
   "execution_count": null,
   "id": "48b29d55-bd83-48db-8bb6-a5defb8a8021",
   "metadata": {
    "scrolled": true
   },
   "outputs": [],
   "source": [
    "# Make sure that NaN values for above listed columns exist\n",
    "# because they are not annotated for Neurotypical Reference \n",
    "meta_test = meta_data[meta_data['Consensus clinical diagnosis'].isna()]\n",
    "meta_test"
   ]
  },
  {
   "cell_type": "code",
   "execution_count": null,
   "id": "fbe2db0d-d0d5-4198-ae73-1c64c1849052",
   "metadata": {},
   "outputs": [],
   "source": [
    "# Dictionary mapping columns to their replacement values for NaN\n",
    "fill_values = {\n",
    "    'ADNC': 'Not AD',\n",
    "    'Braak': '0.0',\n",
    "    'CERAD': '0.0',\n",
    "    'Thal phase': 'Thal 0',\n",
    "    'Cognitive status': 'No dementia',\n",
    "    'Consensus clinical diagnosis': 'Neurotypical'\n",
    "}\n",
    "\n",
    "# Replace NaN values in specified columns\n",
    "meta_data.fillna(fill_values, inplace=True)\n",
    "\n",
    "# Filter for 'neurotypical' and count unique individualIDs\n",
    "neurotypical_count = meta_data[meta_data['Consensus clinical diagnosis'] == 'Neurotypical']['individualID'].nunique()\n",
    "\n",
    "print(f\"Number of unique individualIDs with 'Consensus clinical diagnosis' as 'Neurotypical': {neurotypical_count}\")\n",
    "# Must be 6, only 5 in MTG though"
   ]
  },
  {
   "cell_type": "markdown",
   "id": "d91a628d-aa7e-49a4-94af-82e19ea97be0",
   "metadata": {},
   "source": [
    "\n",
    "\n",
    "<div class=\"alert alert-block alert-info\">\n",
    "<b>Rename 'Control' to 'Pathology Control' in 'Consensus clinical diagnosis'\n",
    "</div>\n"
   ]
  },
  {
   "cell_type": "code",
   "execution_count": null,
   "id": "de17387e-57a0-4b3b-ae08-7fbe9e4d5374",
   "metadata": {},
   "outputs": [],
   "source": [
    "meta_data['Consensus clinical diagnosis'] = meta_data['Consensus clinical diagnosis'].replace('Control', 'Pathology Control')"
   ]
  },
  {
   "cell_type": "code",
   "execution_count": null,
   "id": "8a211b2a-8ed0-4812-aec8-31f1bf97854a",
   "metadata": {
    "scrolled": true
   },
   "outputs": [],
   "source": [
    "meta_data # sanity check!"
   ]
  },
  {
   "cell_type": "markdown",
   "id": "cac0249f-3af1-4ff1-a679-d21a5a12b13b",
   "metadata": {},
   "source": [
    "### E. RIN Score "
   ]
  },
  {
   "cell_type": "code",
   "execution_count": null,
   "id": "8842960f-6fb2-49cd-8bee-32f6004c6c93",
   "metadata": {},
   "outputs": [],
   "source": [
    "myfunc.rin_viewer(meta_data)"
   ]
  },
  {
   "cell_type": "markdown",
   "id": "0e1608f2-d86c-4b57-8c29-d7b1888a9862",
   "metadata": {},
   "source": [
    "### F. Load Continuous Pseudo-progression score (CPS) from Gabitto et al."
   ]
  },
  {
   "cell_type": "code",
   "execution_count": null,
   "id": "0c725c4b-f80c-41b6-ba68-646ad855f412",
   "metadata": {
    "scrolled": true
   },
   "outputs": [],
   "source": [
    "cps = pd.read_csv('donor_scores.csv')\n",
    "cps = cps.rename(columns={'Donor ID': 'individualID'})\n",
    "cps"
   ]
  },
  {
   "cell_type": "code",
   "execution_count": null,
   "id": "a53c54de-35d3-45c5-8c6a-4c3f7c035887",
   "metadata": {
    "scrolled": true
   },
   "outputs": [],
   "source": [
    "# Merge meta_data and result using a left join on individualID\n",
    "meta_data = meta_data.merge(cps, on='individualID', how='left')\n",
    "meta_data"
   ]
  },
  {
   "cell_type": "markdown",
   "id": "6e6a648e-9594-432d-a59b-97c2e6426a31",
   "metadata": {},
   "source": [
    "## 2. View metadata attributes"
   ]
  },
  {
   "cell_type": "markdown",
   "id": "fc169be0-5a1f-494b-9d43-8bad2097e0b1",
   "metadata": {},
   "source": [
    "### A. Unfiltered metadata "
   ]
  },
  {
   "cell_type": "code",
   "execution_count": null,
   "id": "16945a4c-1a56-4566-8538-008fd51949ab",
   "metadata": {},
   "outputs": [],
   "source": [
    "myfunc.view_sex_diagnostics(meta_data)"
   ]
  },
  {
   "cell_type": "markdown",
   "id": "bbc7af01-f7c0-4910-afec-d6ff405e713f",
   "metadata": {},
   "source": [
    "### B. Filter metadata by diagnosis of interest"
   ]
  },
  {
   "cell_type": "code",
   "execution_count": null,
   "id": "ed80b71a-0179-4632-b0c5-dad389488631",
   "metadata": {},
   "outputs": [],
   "source": [
    "# List of diagnoses to filter\n",
    "diagnoses = [\n",
    "    \"Alzheimers disease\",\n",
    "    \"Pathology Control\",\n",
    "    \"Neurotypical\"\n",
    "\n",
    "]\n",
    "\n",
    "# Filter the DataFrame\n",
    "meta_data = meta_data[meta_data['Consensus clinical diagnosis'].isin(diagnoses)]"
   ]
  },
  {
   "cell_type": "code",
   "execution_count": null,
   "id": "9394d96a-f0e3-4d61-bbc4-2d2b064e382f",
   "metadata": {},
   "outputs": [],
   "source": [
    "myfunc.view_sex_diagnostics(meta_data)"
   ]
  },
  {
   "cell_type": "code",
   "execution_count": null,
   "id": "64c433cc-b519-4112-9acc-a62d14e17dc9",
   "metadata": {},
   "outputs": [],
   "source": [
    "myfunc.view_diagnosis_region(meta_data)"
   ]
  },
  {
   "cell_type": "markdown",
   "id": "2c9f9c57-7637-4a84-949d-07437adcf2a6",
   "metadata": {},
   "source": [
    "### C. Save meta data file"
   ]
  },
  {
   "cell_type": "code",
   "execution_count": null,
   "id": "646fb51b-8181-4d9b-89af-5e12f770080c",
   "metadata": {},
   "outputs": [],
   "source": [
    "meta_data.to_csv('meta_data.csv', index=False)"
   ]
  },
  {
   "cell_type": "markdown",
   "id": "41e75482-2006-499e-865a-ace928701569",
   "metadata": {},
   "source": [
    "## 3. Switch for brain regions (Start here once metadata file is made) "
   ]
  },
  {
   "cell_type": "markdown",
   "id": "7373d7d7-e6bb-4079-9c03-2b1ae3e33ed4",
   "metadata": {},
   "source": [
    "### A. Choose desired brain region"
   ]
  },
  {
   "cell_type": "markdown",
   "id": "26184d17-2c27-400d-b79d-5815344eaed0",
   "metadata": {},
   "source": [
    "#### A1. Please choose one of the below:\n",
    "##### 'middle temporal gyrus'\n",
    "##### 'dorsolateral prefrontal cortex'\n",
    "##### 'medial entorhinal cortex'\n",
    "##### 'primary visual cortex'\n",
    "##### 'inferior temporal gyrus'\n",
    "##### 'superior temporal gyrus'"
   ]
  },
  {
   "cell_type": "code",
   "execution_count": null,
   "id": "8e4917c4-e2a5-49bb-aa11-f44d1c0d4fa1",
   "metadata": {
    "scrolled": true
   },
   "outputs": [],
   "source": [
    "# Load metadata\n",
    "meta_data=pd.read_csv('meta_data.csv')\n",
    "meta_data"
   ]
  },
  {
   "cell_type": "code",
   "execution_count": null,
   "id": "636eed9b-e1dc-4e0b-b7aa-4aa845d70f47",
   "metadata": {
    "scrolled": true
   },
   "outputs": [],
   "source": [
    "# Select desired tissue\n",
    "tissue='middle temporal gyrus'\n",
    "specific_brain_region_meta = meta_data[meta_data['tissue'] == tissue]\n",
    "specific_brain_region_meta"
   ]
  },
  {
   "cell_type": "code",
   "execution_count": null,
   "id": "89a3a50a-a180-480b-ac49-513fd6a69194",
   "metadata": {},
   "outputs": [],
   "source": [
    "indiv=specific_brain_region_meta['individualID'].nunique()\n",
    "spec=specific_brain_region_meta['specimenID'].nunique()\n",
    "\n",
    "print(\"Number of donors in this brain region (\",tissue, \"):\",indiv)\n",
    "print(\"Number of samples in this brain region (\", tissue, \"):\", spec)"
   ]
  },
  {
   "cell_type": "code",
   "execution_count": null,
   "id": "d161f991-e661-462a-bc2d-e0b6122b7fd9",
   "metadata": {
    "scrolled": true
   },
   "outputs": [],
   "source": [
    "# Upload \n",
    "synapse_query_df = pd.read_csv('/tscc/lustre/ddn/scratch/aopatel/mtg_fastq/SYNAPSE_TABLE_QUERY_161185670.csv')\n",
    "synapse_query_df"
   ]
  },
  {
   "cell_type": "markdown",
   "id": "ad33a717-5b4d-4e94-a113-9da8bda9edc8",
   "metadata": {},
   "source": [
    "### B. Create '10X_ID' Column for folder recognition in snRNAseq_processing"
   ]
  },
  {
   "cell_type": "code",
   "execution_count": null,
   "id": "c0c619c6-bb60-4e1c-858b-f031d947f27d",
   "metadata": {
    "scrolled": true
   },
   "outputs": [],
   "source": [
    "# Extract everything before \"_S01\"\n",
    "synapse_query_df[\"10X_ID\"] = synapse_query_df[\"name\"].str.extract(r\"^(.*)_S01\")\n",
    "synapse_query_df = synapse_query_df[['specimenID', '10X_ID']]\n",
    "synapse_query_df = synapse_query_df.drop_duplicates(subset=\"10X_ID\")\n",
    "synapse_query_df"
   ]
  },
  {
   "cell_type": "code",
   "execution_count": null,
   "id": "65badb0a-7c38-4661-bd46-8e8fa731ee40",
   "metadata": {},
   "outputs": [],
   "source": [
    "synapse_query_df['10X_ID'].nunique() #Number of files is greater since its all diagnoses"
   ]
  },
  {
   "cell_type": "markdown",
   "id": "3e1e7660-b00d-45c1-968d-325341b04664",
   "metadata": {},
   "source": [
    "#### B1. Merge and save brain region specific metadata"
   ]
  },
  {
   "cell_type": "code",
   "execution_count": null,
   "id": "a651b05a-a31e-40be-baf5-4d89ff34f26d",
   "metadata": {},
   "outputs": [],
   "source": [
    "specific_brain_region_meta  = specific_brain_region_meta.merge(synapse_query_df, on='specimenID', how='left')\n",
    "if (specific_brain_region_meta['10X_ID'].nunique() == spec):\n",
    "    print(\"Performed correctly, all samples downloaded accounted for.\")\n",
    "else: \n",
    "    print('Performed incorrectly, all samples not accounted for.')"
   ]
  },
  {
   "cell_type": "code",
   "execution_count": null,
   "id": "939fbe24-b6f6-421f-85ee-0f85fddec72d",
   "metadata": {},
   "outputs": [],
   "source": [
    "specific_brain_region_meta.to_csv('mtg_meta_data.csv', index=False) # Change file name for correct brain region"
   ]
  },
  {
   "cell_type": "markdown",
   "id": "f729cde2-5377-4d7a-9dc3-bfe6c4ab57fe",
   "metadata": {},
   "source": [
    "## 3. Test"
   ]
  },
  {
   "cell_type": "code",
   "execution_count": null,
   "id": "23e47d89-abfc-42fe-9a8c-b01f2202f311",
   "metadata": {
    "scrolled": true
   },
   "outputs": [],
   "source": [
    "mtg_meta_data=pd.read_csv('mtg_meta_data.csv')\n",
    "mtg_meta_data"
   ]
  },
  {
   "cell_type": "code",
   "execution_count": null,
   "id": "40cf8f54-dbb3-4cb0-a53c-59adf54b482f",
   "metadata": {},
   "outputs": [],
   "source": [
    "# Must equal number of unique individuals in this brain region\n",
    "unique_individuals = mtg_meta_data['individualID'].nunique()\n",
    "print(unique_individuals)"
   ]
  },
  {
   "cell_type": "code",
   "execution_count": null,
   "id": "98753a74-ca7a-42e7-bc14-d9f34775edc5",
   "metadata": {},
   "outputs": [],
   "source": [
    "# Must queal number of unique samples/specimens \n",
    "unique_x_ids = mtg_meta_data['10X_ID'].nunique()\n",
    "unique_x_ids"
   ]
  },
  {
   "cell_type": "code",
   "execution_count": null,
   "id": "e30d3b04-add7-4b5c-9156-4e4a238199b0",
   "metadata": {},
   "outputs": [],
   "source": []
  }
 ],
 "metadata": {
  "kernelspec": {
   "display_name": "Python 3 (ipykernel)",
   "language": "python",
   "name": "python3"
  },
  "language_info": {
   "codemirror_mode": {
    "name": "ipython",
    "version": 3
   },
   "file_extension": ".py",
   "mimetype": "text/x-python",
   "name": "python",
   "nbconvert_exporter": "python",
   "pygments_lexer": "ipython3",
   "version": "3.13.1"
  }
 },
 "nbformat": 4,
 "nbformat_minor": 5
}
